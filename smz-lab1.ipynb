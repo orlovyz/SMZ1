{
 "cells": [
  {
   "cell_type": "code",
   "execution_count": 1,
   "metadata": {
    "colab": {
     "base_uri": "https://localhost:8080/"
    },
    "id": "K0ilFa8ZoMJJ",
    "outputId": "33da1478-a4ce-4a15-ce4a-554516083c4f"
   },
   "outputs": [
    {
     "name": "stdout",
     "output_type": "stream",
     "text": [
      "Writing myConv.py\n"
     ]
    }
   ],
   "source": [
    "%%file myConv.py\n",
    "\n",
    "import torch\n",
    "import numpy as np\n",
    "def myConv2d(in_channels, out_channels, kernel_size, stride=1, padding=0, dilation=1, groups=1, bias=True, padding_mode='zeros'):\n",
    "  def Svertca(matrix):\n",
    "\n",
    "    #groups exeption соединения между входами и выходами проверка корректности\n",
    "    if (in_channels%groups != 0) or (out_channels%groups!=0):\n",
    "      raise Exception('in_channels and out_channels must be divisible by groups')\n",
    "\n",
    "    #генерация bias\n",
    "    if bias == True:\n",
    "      bias_val = torch.rand(out_channels)\n",
    "    else:\n",
    "      bias_val = torch.zeros(out_channels)\n",
    "\n",
    "    # заполнение padding_mode\n",
    "    if (padding_mode == 'zeros'):\n",
    "      pad = torch.nn.ZeroPad2d(padding)\n",
    "      matrix = pad(matrix)\n",
    "    if (padding_mode == 'reflect'):\n",
    "      pad = torch.nn.ReflectionPad2d(padding)\n",
    "      matrix = pad(matrix)\n",
    "    if (padding_mode == 'replicate'):\n",
    "      pad = torch.nn.ReplicationPad2d(2)\n",
    "      matrix = pad(matrix)\n",
    "    if (padding_mode == 'circular'):\n",
    "      pad = torch.nn.CircularPad2d(padding)\n",
    "      matrix = pad(matrix)\n",
    "\n",
    "    #генерация ядра случайными значениями\n",
    "    if type(kernel_size) == tuple:\n",
    "      filter = torch.rand(out_channels, in_channels//groups, kernel_size[0], kernel_size[1])\n",
    "    if type(kernel_size) == int:\n",
    "      filter = torch.rand(out_channels, in_channels//groups, kernel_size, kernel_size)\n",
    "\n",
    "    #filter = b\n",
    "    # bias_val = bi\n",
    "\n",
    "    llist = []\n",
    "    for l in range(out_channels):\n",
    "      feature_map = np.array([]) #генерация пустой feature-map\n",
    "      for i in range (0, matrix.shape[1]-((filter.shape[2]-1)*dilation+1)+1, stride): #(filter.size - 1)*dilation + 1 при delation\n",
    "        for j in range (0, matrix.shape[2]-((filter.shape[3]-1)*dilation+1)+1, stride):\n",
    "          summa = 0\n",
    "          for c in range (in_channels//groups): #groups\n",
    "            if groups>1:\n",
    "              val = matrix[l*(in_channels//groups)+c][i:i+(filter.shape[2]-1)*dilation+1:dilation, j:j+(filter.shape[3]-1)*dilation+1:dilation]\n",
    "            else:\n",
    "              val = matrix[c][i:i+(filter.shape[2]-1)*dilation+1:dilation, j:j+(filter.shape[3]-1)*dilation+1:dilation]\n",
    "            mini_sum = (val*filter[l][c]).sum()\n",
    "            summa = summa + mini_sum\n",
    "          feature_map = np.append(feature_map, float(summa + bias_val[l])) #bias\n",
    "\n",
    "      llist.append(feature_map.reshape((matrix.shape[1]-((filter.shape[2]-1)*dilation+1))//stride+1, (matrix.shape[2]-((filter.shape[3]-1)*dilation+1))//stride+1))\n",
    "\n",
    "    return np.array(llist), np.array(filter), np.array(bias_val)\n",
    "\n",
    "  return Svertca"
   ]
  },
  {
   "cell_type": "code",
   "execution_count": 2,
   "metadata": {
    "colab": {
     "base_uri": "https://localhost:8080/"
    },
    "id": "qSTvjZg0oh5O",
    "outputId": "ec69c406-d64e-4c1b-aa18-b83cde0e4927"
   },
   "outputs": [
    {
     "name": "stdout",
     "output_type": "stream",
     "text": [
      "Writing conftest.py\n"
     ]
    }
   ],
   "source": [
    "%%file conftest.py\n",
    "\n",
    "from pytest import fixture\n",
    "import requests\n",
    "\n",
    "@fixture\n",
    "def session():\n",
    "  s = requests.Session()\n",
    "  s.headers.update({\"User-Agent\": \"pytest requests\"})\n",
    "  s.verify = True\n",
    "  yield s\n",
    "  s.close()"
   ]
  },
  {
   "cell_type": "code",
   "execution_count": 3,
   "metadata": {
    "colab": {
     "base_uri": "https://localhost:8080/"
    },
    "id": "ez4wMeLWoPx6",
    "outputId": "3a302f9f-be65-4fb3-8a37-776998a6126f"
   },
   "outputs": [
    {
     "name": "stdout",
     "output_type": "stream",
     "text": [
      "Writing test_http.py\n"
     ]
    }
   ],
   "source": [
    "%%file test_http.py\n",
    "\n",
    "import numpy as np\n",
    "import torch\n",
    "import sys\n",
    "import os\n",
    "\n",
    "py_file_location = \"/SMZ/myConv.py\"\n",
    "sys.path.append(os.path.abspath(py_file_location))\n",
    "from myConv import myConv2d\n",
    "\n",
    "tensor1 = torch.rand(4, 5, 6)\n",
    "tensor2 = torch.rand(3, 28, 28)\n",
    "tensor3 = torch.rand(1, 1, 1)\n",
    "\n",
    "\n",
    "def test_1(session):\n",
    "  myFunction = myConv2d(in_channels=4, out_channels=2, kernel_size=3, stride=1, padding=0, dilation=1, groups=2, bias=True, padding_mode='zeros')\n",
    "  result, kernel, bias_val = myFunction(tensor1)\n",
    "  torchFunction = torch.nn.Conv2d(in_channels=4, out_channels=2, kernel_size=3, stride=1, padding=0, dilation=1, groups=2, bias=True, padding_mode='zeros')\n",
    "  torchFunction.weight.data = torch.tensor(kernel)\n",
    "  torchFunction.bias.data = torch.tensor(bias_val)\n",
    "  myResult = str(np.round(result, 2))\n",
    "  torchResult = str(np.round(np.array(torchFunction(tensor1).data), 2))\n",
    "  assert torchResult == myResult\n",
    "\n",
    "\n",
    "def test_2(session):\n",
    "  myFunction2 = myConv2d(in_channels=3, out_channels=1, kernel_size=3, stride=1, padding=0, dilation=2, groups=1, bias=True, padding_mode='zeros')\n",
    "  result2, kernel2, bias_val2 = myFunction2(tensor2)\n",
    "  torchFunction2 = torch.nn.Conv2d(in_channels=3, out_channels=1, kernel_size=3, stride=1, padding=0, dilation=2, groups=1, bias=True, padding_mode='zeros')\n",
    "  torchFunction2.weight.data = torch.tensor(kernel2)\n",
    "  torchFunction2.bias.data = torch.tensor(bias_val2)\n",
    "  myResult = str(np.round(result2, 2))\n",
    "  torchResult = str(np.round(np.array(torchFunction2(tensor2).data), 2))\n",
    "  assert torchResult == myResult\n",
    "\n",
    "\n",
    "def test_3(session):\n",
    "  myFunction3 = myConv2d(in_channels=1, out_channels=1, kernel_size=1, stride=1, padding=0, dilation=1, groups=1, bias=True, padding_mode='zeros')\n",
    "  result3, kernel3, bias_val3 = myFunction3(tensor3)\n",
    "  torchFunction3 = torch.nn.Conv2d(in_channels=1, out_channels=1, kernel_size=1, stride=1, padding=0, dilation=1, groups=1, bias=True, padding_mode='zeros')\n",
    "  torchFunction3.weight.data = torch.tensor(kernel3)\n",
    "  torchFunction3.bias.data = torch.tensor(bias_val3)\n",
    "  myResult = str(np.round(result3, 2))\n",
    "  torchResult = str(np.round(np.array(torchFunction3(tensor3).data), 2))\n",
    "  assert torchResult == myResult\n",
    "\n"
   ]
  },
  {
   "cell_type": "code",
   "execution_count": 4,
   "metadata": {
    "colab": {
     "base_uri": "https://localhost:8080/"
    },
    "id": "4841mfWWoWUx",
    "outputId": "e0f5ba59-49f3-44e1-f59d-a2b251c0b141"
   },
   "outputs": [
    {
     "name": "stdout",
     "output_type": "stream",
     "text": [
      "\u001b[1m============================= test session starts =============================\u001b[0m\n",
      "platform win32 -- Python 3.11.6, pytest-7.4.3, pluggy-1.3.0\n",
      "rootdir: d:\\SMZ\\1\n",
      "collected 3 items\n",
      "\n",
      "test_http.py \u001b[32m.\u001b[0m\u001b[32m.\u001b[0m\u001b[32m.\u001b[0m\u001b[32m                                                         [100%]\u001b[0m\n",
      "\n",
      "\u001b[32m============================== \u001b[32m\u001b[1m3 passed\u001b[0m\u001b[32m in 6.26s\u001b[0m\u001b[32m ==============================\u001b[0m\n"
     ]
    }
   ],
   "source": [
    "!pytest"
   ]
  },
  {
   "cell_type": "code",
   "execution_count": 5,
   "metadata": {},
   "outputs": [
    {
     "name": "stdout",
     "output_type": "stream",
     "text": [
      "[[[0.86246848 1.98532915 1.86449194 1.37985706]\n",
      "  [1.98610306 5.03702164 4.67544556 2.23135519]\n",
      "  [1.75034809 5.42129898 5.85383797 2.90122819]\n",
      "  [1.48679781 2.73089051 3.04978895 1.80450749]]\n",
      "\n",
      " [[1.37376678 2.20550013 2.30822754 1.31496203]\n",
      "  [2.82773757 5.97429848 5.30568266 1.95677114]\n",
      "  [2.86085105 4.39055967 5.27298594 2.16799593]\n",
      "  [1.33667779 1.96517229 1.74234831 1.03072596]]]\n",
      "===================================\n",
      "[[[0.8624685 1.9853292 1.8644918 1.3798571]\n",
      "  [1.9861029 5.0370226 4.6754456 2.2313552]\n",
      "  [1.7503481 5.421299  5.853838  2.9012282]\n",
      "  [1.4867978 2.7308908 3.049789  1.8045075]]\n",
      "\n",
      " [[1.3737668 2.2055004 2.3082275 1.314962 ]\n",
      "  [2.8277376 5.9742985 5.305682  1.9567711]\n",
      "  [2.860851  4.390559  5.2729855 2.1679962]\n",
      "  [1.3366778 1.9651723 1.7423483 1.030726 ]]]\n"
     ]
    }
   ],
   "source": [
    "import numpy as np\n",
    "import torch\n",
    "import sys\n",
    "import os\n",
    "\n",
    "py_file_location = \"/SMZ/myConv.py\"\n",
    "sys.path.append(os.path.abspath(py_file_location))\n",
    "from myConv import myConv2d\n",
    "\n",
    "tensor4 = torch.rand(4, 5, 5)\n",
    "\n",
    "myFunction4 = myConv2d(in_channels=4, out_channels=2, kernel_size=3, stride=2, padding=2, dilation=1, groups=2, bias=True, padding_mode='zeros')\n",
    "result4, kernel4, bias_val4 = myFunction4(tensor4)\n",
    "torchFunction4 = torch.nn.Conv2d(in_channels=4, out_channels=2, kernel_size=3, stride=2, padding=2, dilation=1, groups=2, bias=True, padding_mode='zeros')\n",
    "torchFunction4.weight.data = torch.tensor(kernel4)\n",
    "torchFunction4.bias.data = torch.tensor(bias_val4)\n",
    "\n",
    "print(result4)\n",
    "print('===================================')\n",
    "print(np.array(torchFunction4(tensor4).data))"
   ]
  }
 ],
 "metadata": {
  "colab": {
   "provenance": []
  },
  "kernelspec": {
   "display_name": "Python 3 (ipykernel)",
   "language": "python",
   "name": "python3"
  },
  "language_info": {
   "codemirror_mode": {
    "name": "ipython",
    "version": 3
   },
   "file_extension": ".py",
   "mimetype": "text/x-python",
   "name": "python",
   "nbconvert_exporter": "python",
   "pygments_lexer": "ipython3",
   "version": "3.11.6"
  }
 },
 "nbformat": 4,
 "nbformat_minor": 1
}
